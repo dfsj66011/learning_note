{
  "nbformat": 4,
  "nbformat_minor": 0,
  "metadata": {
    "colab": {
      "name": "Keras_efficientnet_transfer_learning.ipynb",
      "version": "0.3.2",
      "provenance": [],
      "collapsed_sections": []
    },
    "kernelspec": {
      "name": "python3",
      "display_name": "Python 3"
    },
    "accelerator": "GPU"
  },
  "cells": [
    {
      "cell_type": "markdown",
      "metadata": {
        "id": "G7Evp4GOUt7Z",
        "colab_type": "text"
      },
      "source": [
        "# [How to do Transfer learning with Efficientnet](https://www.dlology.com/blog/transfer-learning-with-efficientnet/) "
      ]
    },
    {
      "cell_type": "markdown",
      "metadata": {
        "id": "qYbI0TGpL6Jd",
        "colab_type": "text"
      },
      "source": [
        "## Imports"
      ]
    },
    {
      "cell_type": "code",
      "metadata": {
        "id": "e4wFQJkBiFWE",
        "colab_type": "code",
        "outputId": "6ee6c3da-2a31-40b5-cd1f-464b4750763e",
        "colab": {
          "base_uri": "https://localhost:8080/",
          "height": 51
        }
      },
      "source": [
        "# Downgrade pillow to avoid `UserWarning: Possibly corrupt EXIF data.`\n",
        "!pip install pillow==4.0.0"
      ],
      "execution_count": 1,
      "outputs": [
        {
          "output_type": "stream",
          "text": [
            "Requirement already satisfied: pillow==4.0.0 in /usr/local/lib/python3.6/dist-packages (4.0.0)\n",
            "Requirement already satisfied: olefile in /usr/local/lib/python3.6/dist-packages (from pillow==4.0.0) (0.46)\n"
          ],
          "name": "stdout"
        }
      ]
    },
    {
      "cell_type": "code",
      "metadata": {
        "id": "SmzQmZdKDfSF",
        "colab_type": "code",
        "colab": {}
      },
      "source": [
        "from tensorflow.keras import models\n",
        "from tensorflow.keras import layers\n",
        "from tensorflow.keras import optimizers\n",
        "import os\n",
        "import glob\n",
        "import shutil\n",
        "import sys\n",
        "import numpy as np\n",
        "from skimage.io import imread\n",
        "import matplotlib.pyplot as plt\n",
        "from IPython.display import Image\n",
        "%matplotlib inline"
      ],
      "execution_count": 0,
      "outputs": []
    },
    {
      "cell_type": "markdown",
      "metadata": {
        "id": "VpdwDI3vL8sQ",
        "colab_type": "text"
      },
      "source": [
        "## Hyper parameters"
      ]
    },
    {
      "cell_type": "code",
      "metadata": {
        "id": "mp4TOw5rJs0M",
        "colab_type": "code",
        "colab": {}
      },
      "source": [
        "batch_size = 48\n",
        "\n",
        "width = 150\n",
        "height = 150\n",
        "epochs = 20\n",
        "NUM_TRAIN = 2000\n",
        "NUM_TEST = 1000\n",
        "dropout_rate = 0.2\n",
        "input_shape = (height, width, 3)"
      ],
      "execution_count": 0,
      "outputs": []
    },
    {
      "cell_type": "markdown",
      "metadata": {
        "id": "R9S4UyubKPUc",
        "colab_type": "text"
      },
      "source": [
        "## Clone **efficientnet** repo"
      ]
    },
    {
      "cell_type": "code",
      "metadata": {
        "id": "mnyJvYF_yXLo",
        "colab_type": "code",
        "outputId": "5c382eed-5822-4d5d-b78b-5b93e052cebd",
        "colab": {
          "base_uri": "https://localhost:8080/",
          "height": 51
        }
      },
      "source": [
        "import os\n",
        "%cd /content\n",
        "if not os.path.isdir(\"efficientnet_keras_transfer_learning\"):\n",
        "    !git clone https://github.com/Tony607/efficientnet_keras_transfer_learning\n",
        "%cd efficientnet_keras_transfer_learning/"
      ],
      "execution_count": 4,
      "outputs": [
        {
          "output_type": "stream",
          "text": [
            "/content\n",
            "/content/efficientnet_keras_transfer_learning\n"
          ],
          "name": "stdout"
        }
      ]
    },
    {
      "cell_type": "markdown",
      "metadata": {
        "id": "oO7kxxRaMC2q",
        "colab_type": "text"
      },
      "source": [
        "## Import efficientnet and load the conv base model"
      ]
    },
    {
      "cell_type": "code",
      "metadata": {
        "id": "vq00KoYUzOSc",
        "colab_type": "code",
        "colab": {}
      },
      "source": [
        "# Options: EfficientNetB0, EfficientNetB1, EfficientNetB2, EfficientNetB3\n",
        "# Higher the number, the more complex the model is.\n",
        "from efficientnet import EfficientNetB3 as Net\n",
        "from efficientnet import center_crop_and_resize, preprocess_input"
      ],
      "execution_count": 0,
      "outputs": []
    },
    {
      "cell_type": "code",
      "metadata": {
        "id": "PeETTKsszRj0",
        "colab_type": "code",
        "outputId": "94c7f5ef-112d-4c62-8fdf-a80ee1b5527a",
        "colab": {
          "base_uri": "https://localhost:8080/",
          "height": 258
        }
      },
      "source": [
        "# loading pretrained conv base model\n",
        "conv_base = Net(weights='imagenet', include_top=False, input_shape=input_shape)"
      ],
      "execution_count": 12,
      "outputs": [
        {
          "output_type": "stream",
          "text": [
            "WARNING: Logging before flag parsing goes to stderr.\n",
            "W0623 06:12:44.382034 139823591925632 deprecation_wrapper.py:119] From /content/efficientnet_keras_transfer_learning/efficientnet/model.py:67: The name tf.random_normal is deprecated. Please use tf.random.normal instead.\n",
            "\n",
            "W0623 06:12:44.504250 139823591925632 deprecation.py:506] From /usr/local/lib/python3.6/dist-packages/tensorflow/python/ops/init_ops.py:1251: calling VarianceScaling.__init__ (from tensorflow.python.ops.init_ops) with dtype is deprecated and will be removed in a future version.\n",
            "Instructions for updating:\n",
            "Call initializer instance with the dtype argument instead of passing it to the constructor\n",
            "W0623 06:12:44.835230 139823591925632 deprecation_wrapper.py:119] From /usr/local/lib/python3.6/dist-packages/tensorflow/python/autograph/converters/directives.py:117: The name tf.random_uniform is deprecated. Please use tf.random.uniform instead.\n",
            "\n",
            "W0623 06:12:44.951386 139823591925632 deprecation.py:323] From /usr/local/lib/python3.6/dist-packages/tensorflow/python/autograph/impl/api.py:255: div (from tensorflow.python.ops.math_ops) is deprecated and will be removed in a future version.\n",
            "Instructions for updating:\n",
            "Deprecated in favor of operator or tf.math.divide.\n"
          ],
          "name": "stderr"
        },
        {
          "output_type": "stream",
          "text": [
            "Downloading data from https://github.com/qubvel/efficientnet/releases/download/v0.0.1/efficientnet-b3_imagenet_1000_notop.h5\n",
            "43974656/43966704 [==============================] - 0s 0us/step\n"
          ],
          "name": "stdout"
        }
      ]
    },
    {
      "cell_type": "markdown",
      "metadata": {
        "id": "WONAK_7CKY6z",
        "colab_type": "text"
      },
      "source": [
        "## Download and extract `dog_vs_cat` dataset"
      ]
    },
    {
      "cell_type": "code",
      "metadata": {
        "id": "8Tp1YzND3dUs",
        "colab_type": "code",
        "outputId": "490b07e6-2129-4876-8885-7e76238e5163",
        "colab": {
          "base_uri": "https://localhost:8080/",
          "height": 34
        }
      },
      "source": [
        "if not os.path.isfile(\"kagglecatsanddogs_3367a.zip\"):\n",
        "    !wget https://download.microsoft.com/download/3/E/1/3E1C3F21-ECDB-4869-8368-6DEBA77B919F/kagglecatsanddogs_3367a.zip\n",
        "    !unzip -qq kagglecatsanddogs_3367a.zip -d dog_vs_cat\n",
        "else:\n",
        "    print(\"dataset already exist.\")"
      ],
      "execution_count": 13,
      "outputs": [
        {
          "output_type": "stream",
          "text": [
            "dataset already exist.\n"
          ],
          "name": "stdout"
        }
      ]
    },
    {
      "cell_type": "code",
      "metadata": {
        "id": "4OdmlrfP40sc",
        "colab_type": "code",
        "outputId": "d8ab64e4-7324-4170-bece-740c5c52deb5",
        "colab": {
          "base_uri": "https://localhost:8080/",
          "height": 204
        }
      },
      "source": [
        "!ls dog_vs_cat/PetImages/\n",
        "!ls dog_vs_cat/PetImages/Cat -l -t | head -10"
      ],
      "execution_count": 14,
      "outputs": [
        {
          "output_type": "stream",
          "text": [
            "Cat  Dog\n",
            "total 408428\n",
            "-rw-r--r-- 1 root root   34297 Feb 10  2017 9955.jpg\n",
            "-rw-r--r-- 1 root root   26013 Feb 10  2017 9956.jpg\n",
            "-rw-r--r-- 1 root root   26293 Feb 10  2017 9957.jpg\n",
            "-rw-r--r-- 1 root root   36293 Feb 10  2017 9958.jpg\n",
            "-rw-r--r-- 1 root root   36690 Feb 10  2017 9959.jpg\n",
            "-rw-r--r-- 1 root root   15262 Feb 10  2017 9960.jpg\n",
            "-rw-r--r-- 1 root root   49493 Feb 10  2017 9961.jpg\n",
            "-rw-r--r-- 1 root root   14785 Feb 10  2017 9962.jpg\n",
            "-rw-r--r-- 1 root root   39717 Feb 10  2017 9963.jpg\n"
          ],
          "name": "stdout"
        }
      ]
    },
    {
      "cell_type": "code",
      "metadata": {
        "id": "SOXcZDirjoL4",
        "colab_type": "code",
        "outputId": "e47a5d38-8a6e-45a0-bbcf-bab13c39aa60",
        "colab": {
          "base_uri": "https://localhost:8080/",
          "height": 51
        }
      },
      "source": [
        "# The path to the directory where the original\n",
        "# dataset was uncompressed\n",
        "original_dataset_dir = './dog_vs_cat/PetImages'\n",
        "\n",
        "cat_images = glob.glob(os.path.join(original_dataset_dir, \"Cat\", '*.jpg'))\n",
        "dog_images = glob.glob(os.path.join(original_dataset_dir, \"Dog\", '*.jpg'))\n",
        "print(\"total cat images: {}\\n\\rtotal dog images: {}\".format(len(cat_images), len(dog_images)))"
      ],
      "execution_count": 15,
      "outputs": [
        {
          "output_type": "stream",
          "text": [
            "total cat images: 12500\n",
            "\rtotal dog images: 12500\n"
          ],
          "name": "stdout"
        }
      ]
    },
    {
      "cell_type": "code",
      "metadata": {
        "id": "IBqtrHVu5iUE",
        "colab_type": "code",
        "colab": {}
      },
      "source": [
        "# The directory where we will\n",
        "# store our smaller dataset\n",
        "base_dir = './data/dog_vs_cat_small'\n",
        "os.makedirs(base_dir, exist_ok=True)\n",
        "\n",
        "# Directories for our training,\n",
        "# validation and test splits\n",
        "train_dir = os.path.join(base_dir, 'train')\n",
        "os.makedirs(train_dir, exist_ok=True)\n",
        "validation_dir = os.path.join(base_dir, 'validation')\n",
        "os.makedirs(validation_dir, exist_ok=True)\n",
        "test_dir = os.path.join(base_dir, 'test')\n",
        "os.makedirs(test_dir, exist_ok=True)\n",
        "\n",
        "# Directory with our training cat pictures\n",
        "train_cats_dir = os.path.join(train_dir, 'cats')\n",
        "os.makedirs(train_cats_dir, exist_ok=True)\n",
        "\n",
        "# Directory with our training dog pictures\n",
        "train_dogs_dir = os.path.join(train_dir, 'dogs')\n",
        "os.makedirs(train_dogs_dir, exist_ok=True)\n",
        "\n",
        "# Directory with our validation cat pictures\n",
        "validation_cats_dir = os.path.join(validation_dir, 'cats')\n",
        "os.makedirs(validation_cats_dir, exist_ok=True)\n",
        "\n",
        "# Directory with our validation dog pictures\n",
        "validation_dogs_dir = os.path.join(validation_dir, 'dogs')\n",
        "os.makedirs(validation_dogs_dir, exist_ok=True)\n",
        "\n",
        "# Directory with our validation cat pictures\n",
        "test_cats_dir = os.path.join(test_dir, 'cats')\n",
        "os.makedirs(test_cats_dir, exist_ok=True)\n",
        "\n",
        "# Directory with our validation dog pictures\n",
        "test_dogs_dir = os.path.join(test_dir, 'dogs')\n",
        "os.makedirs(test_dogs_dir, exist_ok=True)\n",
        "\n",
        "# Copy first NUM_TRAIN//2 cat images to train_cats_dir\n",
        "fnames = cat_images[:NUM_TRAIN//2]\n",
        "for fname in fnames:\n",
        "    dst = os.path.join(train_cats_dir, os.path.basename(fname))\n",
        "    shutil.copyfile(fname, dst)\n",
        "\n",
        "offset = NUM_TRAIN//2\n",
        "# Copy next NUM_TEST //2 cat images to validation_cats_dir\n",
        "fnames = cat_images[offset:offset + NUM_TEST // 2]\n",
        "for fname in fnames:\n",
        "    dst = os.path.join(validation_cats_dir, os.path.basename(fname))\n",
        "    shutil.copyfile(fname, dst)\n",
        "offset = offset + NUM_TEST // 2\n",
        "# Copy next NUM_TRAIN//2 cat images to test_cats_dir\n",
        "fnames = cat_images[offset:offset + NUM_TEST // 2]\n",
        "for fname in fnames:\n",
        "    dst = os.path.join(test_cats_dir, os.path.basename(fname))\n",
        "    shutil.copyfile(fname, dst)\n",
        "\n",
        "\n",
        "# Copy first NUM_TRAIN//2 dog images to train_dogs_dir\n",
        "fnames = dog_images[:NUM_TRAIN//2]\n",
        "for fname in fnames:\n",
        "    dst = os.path.join(train_dogs_dir, os.path.basename(fname))\n",
        "    shutil.copyfile(fname, dst)\n",
        "\n",
        "offset = NUM_TRAIN//2\n",
        "# Copy next NUM_TEST // 2 dog images to validation_dogs_dir\n",
        "fnames = dog_images[offset:offset + NUM_TEST // 2]\n",
        "for fname in fnames:\n",
        "    dst = os.path.join(validation_dogs_dir, os.path.basename(fname))\n",
        "    shutil.copyfile(fname, dst)\n",
        "offset = offset + NUM_TEST // 2\n",
        "\n",
        "# Copy next NUM_TEST // 2 dog images to test_dogs_dir\n",
        "fnames = dog_images[offset:offset + NUM_TEST // 2]\n",
        "for fname in fnames:\n",
        "    dst = os.path.join(test_dogs_dir, os.path.basename(fname))\n",
        "    shutil.copyfile(fname, dst)"
      ],
      "execution_count": 0,
      "outputs": []
    },
    {
      "cell_type": "code",
      "metadata": {
        "id": "WyD74zWe56WK",
        "colab_type": "code",
        "outputId": "9760f728-09b4-4f22-91c5-0e381b6e81a9",
        "colab": {
          "base_uri": "https://localhost:8080/",
          "height": 119
        }
      },
      "source": [
        "print('total training cat images:', len(os.listdir(train_cats_dir)))\n",
        "print('total training dog images:', len(os.listdir(train_dogs_dir)))\n",
        "print('total validation cat images:', len(os.listdir(validation_cats_dir)))\n",
        "print('total validation dog images:', len(os.listdir(validation_dogs_dir)))\n",
        "print('total test cat images:', len(os.listdir(test_cats_dir)))\n",
        "print('total test dog images:', len(os.listdir(test_dogs_dir)))"
      ],
      "execution_count": 17,
      "outputs": [
        {
          "output_type": "stream",
          "text": [
            "total training cat images: 1000\n",
            "total training dog images: 1000\n",
            "total validation cat images: 500\n",
            "total validation dog images: 500\n",
            "total test cat images: 500\n",
            "total test dog images: 500\n"
          ],
          "name": "stdout"
        }
      ]
    },
    {
      "cell_type": "code",
      "metadata": {
        "id": "D9MM2WA49zyj",
        "colab_type": "code",
        "outputId": "cc31768a-16a0-4e43-8e7f-a554ab452737",
        "colab": {
          "base_uri": "https://localhost:8080/",
          "height": 51
        }
      },
      "source": [
        "from tensorflow.keras.preprocessing.image import ImageDataGenerator\n",
        "\n",
        "train_datagen = ImageDataGenerator(\n",
        "      rescale=1./255,\n",
        "      rotation_range=40,\n",
        "      width_shift_range=0.2,\n",
        "      height_shift_range=0.2,\n",
        "      shear_range=0.2,\n",
        "      zoom_range=0.2,\n",
        "      horizontal_flip=True,\n",
        "      fill_mode='nearest')\n",
        "\n",
        "# Note that the validation data should not be augmented!\n",
        "test_datagen = ImageDataGenerator(rescale=1./255)\n",
        "\n",
        "train_generator = train_datagen.flow_from_directory(\n",
        "        # This is the target directory\n",
        "        train_dir,\n",
        "        # All images will be resized to target height and width.\n",
        "        target_size=(height, width),\n",
        "        batch_size=batch_size,\n",
        "        # Since we use categorical_crossentropy loss, we need categorical labels\n",
        "        class_mode='categorical')\n",
        "\n",
        "validation_generator = test_datagen.flow_from_directory(\n",
        "        validation_dir,\n",
        "        target_size=(height, width),\n",
        "        batch_size=batch_size,\n",
        "        class_mode='categorical')"
      ],
      "execution_count": 18,
      "outputs": [
        {
          "output_type": "stream",
          "text": [
            "Found 2000 images belonging to 2 classes.\n",
            "Found 1000 images belonging to 2 classes.\n"
          ],
          "name": "stdout"
        }
      ]
    },
    {
      "cell_type": "code",
      "metadata": {
        "id": "lgjoz26l-HfD",
        "colab_type": "code",
        "colab": {}
      },
      "source": [
        "model = models.Sequential()\n",
        "model.add(conv_base)\n",
        "model.add(layers.GlobalMaxPooling2D(name=\"gap\"))\n",
        "# model.add(layers.Flatten(name=\"flatten\"))\n",
        "if dropout_rate > 0:\n",
        "    model.add(layers.Dropout(dropout_rate, name=\"dropout_out\"))\n",
        "# model.add(layers.Dense(256, activation='relu', name=\"fc1\"))\n",
        "model.add(layers.Dense(2, activation='softmax', name=\"fc_out\"))"
      ],
      "execution_count": 0,
      "outputs": []
    },
    {
      "cell_type": "code",
      "metadata": {
        "id": "4iAX7AegDHUS",
        "colab_type": "code",
        "outputId": "e3748ae8-cc4b-4542-c366-5b9a07271891",
        "colab": {
          "base_uri": "https://localhost:8080/",
          "height": 289
        }
      },
      "source": [
        "model.summary()"
      ],
      "execution_count": 20,
      "outputs": [
        {
          "output_type": "stream",
          "text": [
            "Model: \"sequential\"\n",
            "_________________________________________________________________\n",
            "Layer (type)                 Output Shape              Param #   \n",
            "=================================================================\n",
            "efficientnet-b3 (Model)      (None, 5, 5, 1536)        10783528  \n",
            "_________________________________________________________________\n",
            "gap (GlobalMaxPooling2D)     (None, 1536)              0         \n",
            "_________________________________________________________________\n",
            "dropout_out (Dropout)        (None, 1536)              0         \n",
            "_________________________________________________________________\n",
            "fc_out (Dense)               (None, 2)                 3074      \n",
            "=================================================================\n",
            "Total params: 10,786,602\n",
            "Trainable params: 10,699,306\n",
            "Non-trainable params: 87,296\n",
            "_________________________________________________________________\n"
          ],
          "name": "stdout"
        }
      ]
    },
    {
      "cell_type": "code",
      "metadata": {
        "id": "_N-F9Z-uDJAi",
        "colab_type": "code",
        "outputId": "7c686ea1-9bbe-4c3d-d347-cee5c1e66fe3",
        "colab": {
          "base_uri": "https://localhost:8080/",
          "height": 51
        }
      },
      "source": [
        "print('This is the number of trainable layers '\n",
        "      'before freezing the conv base:', len(model.trainable_weights))\n",
        "\n",
        "conv_base.trainable = False\n",
        "\n",
        "print('This is the number of trainable layers '\n",
        "      'after freezing the conv base:', len(model.trainable_weights))"
      ],
      "execution_count": 21,
      "outputs": [
        {
          "output_type": "stream",
          "text": [
            "This is the number of trainable layers before freezing the conv base: 340\n",
            "This is the number of trainable layers after freezing the conv base: 2\n"
          ],
          "name": "stdout"
        }
      ]
    },
    {
      "cell_type": "code",
      "metadata": {
        "id": "SJHDUrjw2wRG",
        "colab_type": "code",
        "outputId": "2fd14a3a-3d49-4bcb-ff8f-629c7734d4ef",
        "colab": {
          "base_uri": "https://localhost:8080/",
          "height": 697
        }
      },
      "source": [
        "model.compile(loss='categorical_crossentropy',\n",
        "              optimizer=optimizers.RMSprop(lr=2e-5),\n",
        "              metrics=['acc'])\n",
        "history = model.fit_generator(\n",
        "      train_generator,\n",
        "      steps_per_epoch= NUM_TRAIN //batch_size,\n",
        "      epochs=epochs,\n",
        "      validation_data=validation_generator,\n",
        "      validation_steps= NUM_TEST //batch_size,\n",
        "      verbose=1,\n",
        "      use_multiprocessing=True,\n",
        "      workers=4)"
      ],
      "execution_count": 22,
      "outputs": [
        {
          "output_type": "stream",
          "text": [
            "Epoch 1/20\n",
            "41/41 [==============================] - 23s 553ms/step - loss: 1.7546 - acc: 0.4928 - val_loss: 2.1525 - val_acc: 0.5583\n",
            "Epoch 2/20\n",
            "41/41 [==============================] - 18s 432ms/step - loss: 1.6382 - acc: 0.5010 - val_loss: 2.1048 - val_acc: 0.5656\n",
            "Epoch 3/20\n",
            "41/41 [==============================] - 18s 438ms/step - loss: 1.5613 - acc: 0.5274 - val_loss: 2.1025 - val_acc: 0.5771\n",
            "Epoch 4/20\n",
            "41/41 [==============================] - 18s 435ms/step - loss: 1.4959 - acc: 0.5150 - val_loss: 1.9425 - val_acc: 0.5854\n",
            "Epoch 5/20\n",
            "41/41 [==============================] - 18s 438ms/step - loss: 1.5377 - acc: 0.5343 - val_loss: 1.8641 - val_acc: 0.5917\n",
            "Epoch 6/20\n",
            "41/41 [==============================] - 18s 438ms/step - loss: 1.4801 - acc: 0.5297 - val_loss: 1.7975 - val_acc: 0.5917\n",
            "Epoch 7/20\n",
            "41/41 [==============================] - 18s 441ms/step - loss: 1.5148 - acc: 0.5272 - val_loss: 1.6879 - val_acc: 0.6062\n",
            "Epoch 8/20\n",
            "41/41 [==============================] - 18s 448ms/step - loss: 1.4672 - acc: 0.5371 - val_loss: 1.6225 - val_acc: 0.6031\n",
            "Epoch 9/20\n",
            "41/41 [==============================] - 18s 446ms/step - loss: 1.4307 - acc: 0.5599 - val_loss: 1.5762 - val_acc: 0.6125\n",
            "Epoch 10/20\n",
            "41/41 [==============================] - 18s 451ms/step - loss: 1.3434 - acc: 0.5579 - val_loss: 1.5111 - val_acc: 0.6094\n",
            "Epoch 11/20\n",
            "41/41 [==============================] - 19s 454ms/step - loss: 1.3795 - acc: 0.5430 - val_loss: 1.4982 - val_acc: 0.6187\n",
            "Epoch 12/20\n",
            "41/41 [==============================] - 19s 454ms/step - loss: 1.3475 - acc: 0.5681 - val_loss: 1.4020 - val_acc: 0.6281\n",
            "Epoch 13/20\n",
            "41/41 [==============================] - 18s 443ms/step - loss: 1.3255 - acc: 0.5671 - val_loss: 1.3794 - val_acc: 0.6365\n",
            "Epoch 14/20\n",
            "41/41 [==============================] - 19s 452ms/step - loss: 1.2887 - acc: 0.5733 - val_loss: 1.3023 - val_acc: 0.6458\n",
            "Epoch 15/20\n",
            "41/41 [==============================] - 18s 439ms/step - loss: 1.2883 - acc: 0.5758 - val_loss: 1.2867 - val_acc: 0.6406\n",
            "Epoch 16/20\n",
            "41/41 [==============================] - 18s 434ms/step - loss: 1.3426 - acc: 0.5543 - val_loss: 1.2147 - val_acc: 0.6521\n",
            "Epoch 17/20\n",
            "41/41 [==============================] - 18s 432ms/step - loss: 1.2669 - acc: 0.5803 - val_loss: 1.1512 - val_acc: 0.6698\n",
            "Epoch 18/20\n",
            "41/41 [==============================] - 17s 422ms/step - loss: 1.2070 - acc: 0.5878 - val_loss: 1.1218 - val_acc: 0.6740\n",
            "Epoch 19/20\n",
            "41/41 [==============================] - 18s 445ms/step - loss: 1.2744 - acc: 0.5935 - val_loss: 1.0861 - val_acc: 0.6812\n",
            "Epoch 20/20\n",
            "41/41 [==============================] - 17s 424ms/step - loss: 1.1939 - acc: 0.6091 - val_loss: 1.0357 - val_acc: 0.6885\n"
          ],
          "name": "stdout"
        }
      ]
    },
    {
      "cell_type": "code",
      "metadata": {
        "id": "i90iKXuL3CHT",
        "colab_type": "code",
        "outputId": "2f6c4166-0522-4120-9608-eba7c7d00ed0",
        "colab": {
          "base_uri": "https://localhost:8080/",
          "height": 545
        }
      },
      "source": [
        "acc = history.history['acc']\n",
        "val_acc = history.history['val_acc']\n",
        "loss = history.history['loss']\n",
        "val_loss = history.history['val_loss']\n",
        "\n",
        "epochs_x = range(len(acc))\n",
        "\n",
        "plt.plot(epochs_x, acc, 'bo', label='Training acc')\n",
        "plt.plot(epochs_x, val_acc, 'b', label='Validation acc')\n",
        "plt.title('Training and validation accuracy')\n",
        "plt.legend()\n",
        "\n",
        "plt.figure()\n",
        "\n",
        "plt.plot(epochs_x, loss, 'bo', label='Training loss')\n",
        "plt.plot(epochs_x, val_loss, 'b', label='Validation loss')\n",
        "plt.title('Training and validation loss')\n",
        "plt.legend()\n",
        "\n",
        "plt.show()"
      ],
      "execution_count": 23,
      "outputs": [
        {
          "output_type": "display_data",
          "data": {
            "image/png": "[encoded data removed]",
            "text/plain": [
              "<Figure size 432x288 with 1 Axes>"
            ]
          },
          "metadata": {
            "tags": []
          }
        },
        {
          "output_type": "display_data",
          "data": {
            "image/png": "[encoded data removed]",
            "text/plain": [
              "<Figure size 432x288 with 1 Axes>"
            ]
          },
          "metadata": {
            "tags": []
          }
        }
      ]
    },
    {
      "cell_type": "markdown",
      "metadata": {
        "id": "4gRv7SwYqT9f",
        "colab_type": "text"
      },
      "source": [
        "## Fine tuning last several layers."
      ]
    },
    {
      "cell_type": "code",
      "metadata": {
        "id": "yKI8AJxQVB1Q",
        "colab_type": "code",
        "colab": {}
      },
      "source": [
        "# multiply_16\n",
        "# set 'multiply_16' and following layers trainable\n",
        "conv_base.trainable = True\n",
        "\n",
        "set_trainable = False\n",
        "for layer in conv_base.layers:\n",
        "    if layer.name == 'multiply_16':\n",
        "        set_trainable = True\n",
        "    if set_trainable:\n",
        "        layer.trainable = True\n",
        "    else:\n",
        "        layer.trainable = False"
      ],
      "execution_count": 0,
      "outputs": []
    },
    {
      "cell_type": "code",
      "metadata": {
        "id": "FMjt8tCcDOoC",
        "colab_type": "code",
        "outputId": "a23be368-3383-4868-83a0-01579c364738",
        "colab": {
          "base_uri": "https://localhost:8080/",
          "height": 697
        }
      },
      "source": [
        "model.compile(loss='categorical_crossentropy',\n",
        "              optimizer=optimizers.RMSprop(lr=2e-5),\n",
        "              metrics=['acc'])\n",
        "\n",
        "history = model.fit_generator(\n",
        "      train_generator,\n",
        "      steps_per_epoch= NUM_TRAIN //batch_size,\n",
        "      epochs=epochs,\n",
        "      validation_data=validation_generator,\n",
        "      validation_steps= NUM_TEST //batch_size,\n",
        "      verbose=1,\n",
        "      use_multiprocessing=True,\n",
        "      workers=4)"
      ],
      "execution_count": 25,
      "outputs": [
        {
          "output_type": "stream",
          "text": [
            "Epoch 1/20\n",
            "41/41 [==============================] - 33s 816ms/step - loss: 1.1021 - acc: 0.6199 - val_loss: 0.6904 - val_acc: 0.7677\n",
            "Epoch 2/20\n",
            "41/41 [==============================] - 20s 481ms/step - loss: 0.9173 - acc: 0.6691 - val_loss: 0.5476 - val_acc: 0.7969\n",
            "Epoch 3/20\n",
            "41/41 [==============================] - 20s 479ms/step - loss: 0.8405 - acc: 0.6972 - val_loss: 0.5263 - val_acc: 0.8146\n",
            "Epoch 4/20\n",
            "41/41 [==============================] - 20s 480ms/step - loss: 0.7184 - acc: 0.7428 - val_loss: 0.5157 - val_acc: 0.8219\n",
            "Epoch 5/20\n",
            "41/41 [==============================] - 20s 483ms/step - loss: 0.6562 - acc: 0.7515 - val_loss: 0.5328 - val_acc: 0.8198\n",
            "Epoch 6/20\n",
            "41/41 [==============================] - 20s 499ms/step - loss: 0.6023 - acc: 0.7833 - val_loss: 0.5189 - val_acc: 0.8292\n",
            "Epoch 7/20\n",
            "41/41 [==============================] - 20s 492ms/step - loss: 0.5056 - acc: 0.7987 - val_loss: 0.5045 - val_acc: 0.8354\n",
            "Epoch 8/20\n",
            "41/41 [==============================] - 20s 486ms/step - loss: 0.5583 - acc: 0.7910 - val_loss: 0.5001 - val_acc: 0.8313\n",
            "Epoch 9/20\n",
            "41/41 [==============================] - 20s 491ms/step - loss: 0.4957 - acc: 0.8217 - val_loss: 0.4691 - val_acc: 0.8344\n",
            "Epoch 10/20\n",
            "41/41 [==============================] - 20s 491ms/step - loss: 0.4991 - acc: 0.8207 - val_loss: 0.4458 - val_acc: 0.8427\n",
            "Epoch 11/20\n",
            "41/41 [==============================] - 21s 504ms/step - loss: 0.4081 - acc: 0.8432 - val_loss: 0.3948 - val_acc: 0.8552\n",
            "Epoch 12/20\n",
            "41/41 [==============================] - 20s 491ms/step - loss: 0.4334 - acc: 0.8308 - val_loss: 0.4019 - val_acc: 0.8562\n",
            "Epoch 13/20\n",
            "41/41 [==============================] - 20s 494ms/step - loss: 0.3831 - acc: 0.8581 - val_loss: 0.3827 - val_acc: 0.8667\n",
            "Epoch 14/20\n",
            "41/41 [==============================] - 20s 493ms/step - loss: 0.4023 - acc: 0.8507 - val_loss: 0.3986 - val_acc: 0.8625\n",
            "Epoch 15/20\n",
            "41/41 [==============================] - 20s 488ms/step - loss: 0.3783 - acc: 0.8678 - val_loss: 0.3980 - val_acc: 0.8646\n",
            "Epoch 16/20\n",
            "41/41 [==============================] - 20s 486ms/step - loss: 0.4026 - acc: 0.8501 - val_loss: 0.3466 - val_acc: 0.8750\n",
            "Epoch 17/20\n",
            "41/41 [==============================] - 21s 506ms/step - loss: 0.3205 - acc: 0.8730 - val_loss: 0.3325 - val_acc: 0.8802\n",
            "Epoch 18/20\n",
            "41/41 [==============================] - 20s 487ms/step - loss: 0.3402 - acc: 0.8719 - val_loss: 0.3254 - val_acc: 0.8844\n",
            "Epoch 19/20\n",
            "41/41 [==============================] - 20s 489ms/step - loss: 0.3365 - acc: 0.8698 - val_loss: 0.3305 - val_acc: 0.8802\n",
            "Epoch 20/20\n",
            "41/41 [==============================] - 20s 487ms/step - loss: 0.3092 - acc: 0.8841 - val_loss: 0.3479 - val_acc: 0.8802\n"
          ],
          "name": "stdout"
        }
      ]
    },
    {
      "cell_type": "code",
      "metadata": {
        "id": "HvVt5TwoEDz6",
        "colab_type": "code",
        "colab": {}
      },
      "source": [
        "os.makedirs(\"./models\", exist_ok=True)\n",
        "model.save('./models/cats_and_dogs_small.h5')"
      ],
      "execution_count": 0,
      "outputs": []
    },
    {
      "cell_type": "code",
      "metadata": {
        "id": "65AKWOGiHB5y",
        "colab_type": "code",
        "outputId": "fdd47b33-9b59-4f37-e624-c593e6b8a96f",
        "colab": {
          "base_uri": "https://localhost:8080/",
          "height": 545
        }
      },
      "source": [
        "acc = history.history['acc']\n",
        "val_acc = history.history['val_acc']\n",
        "loss = history.history['loss']\n",
        "val_loss = history.history['val_loss']\n",
        "\n",
        "epochs_x = range(len(acc))\n",
        "\n",
        "plt.plot(epochs_x, acc, 'bo', label='Training acc')\n",
        "plt.plot(epochs_x, val_acc, 'b', label='Validation acc')\n",
        "plt.title('Training and validation accuracy')\n",
        "plt.legend()\n",
        "\n",
        "plt.figure()\n",
        "\n",
        "plt.plot(epochs_x, loss, 'bo', label='Training loss')\n",
        "plt.plot(epochs_x, val_loss, 'b', label='Validation loss')\n",
        "plt.title('Training and validation loss')\n",
        "plt.legend()\n",
        "\n",
        "plt.show()"
      ],
      "execution_count": 27,
      "outputs": [
        {
          "output_type": "display_data",
          "data": {
            "image/png": "[encoded data removed]",
            "text/plain": [
              "<Figure size 432x288 with 1 Axes>"
            ]
          },
          "metadata": {
            "tags": []
          }
        },
        {
          "output_type": "display_data",
          "data": {
            "image/png": "[encoded data removed]",
            "text/plain": [
              "<Figure size 432x288 with 1 Axes>"
            ]
          },
          "metadata": {
            "tags": []
          }
        }
      ]
    },
    {
      "cell_type": "markdown",
      "metadata": {
        "id": "bigZr9kjL2sY",
        "colab_type": "text"
      },
      "source": [
        "## Test predict"
      ]
    },
    {
      "cell_type": "code",
      "metadata": {
        "id": "JWTv_-7CHqZB",
        "colab_type": "code",
        "colab": {}
      },
      "source": [
        "cat_img = cat_images[-1]\n",
        "dog_img= dog_images[-1]"
      ],
      "execution_count": 0,
      "outputs": []
    },
    {
      "cell_type": "code",
      "metadata": {
        "id": "_VFoNC0TLzaf",
        "colab_type": "code",
        "outputId": "d3c70122-8156-485b-937d-673dfaaaf684",
        "colab": {
          "base_uri": "https://localhost:8080/",
          "height": 111
        }
      },
      "source": [
        "Image(filename=cat_img)"
      ],
      "execution_count": 29,
      "outputs": [
        {
          "output_type": "execute_result",
          "data": {
            "image/jpeg": "[encoded data removed]",
            "text/plain": [
              "<IPython.core.display.Image object>"
            ]
          },
          "metadata": {
            "tags": []
          },
          "execution_count": 29
        }
      ]
    },
    {
      "cell_type": "code",
      "metadata": {
        "id": "J4euiZSwLyZh",
        "colab_type": "code",
        "outputId": "d967a1e7-9557-4fb1-dcb0-36b28d02033f",
        "colab": {
          "base_uri": "https://localhost:8080/",
          "height": 376
        }
      },
      "source": [
        "Image(filename=dog_img)"
      ],
      "execution_count": 30,
      "outputs": [
        {
          "output_type": "execute_result",
          "data": {
            "image/jpeg": "[encoded data removed]",
            "text/plain": [
              "<IPython.core.display.Image object>"
            ]
          },
          "metadata": {
            "tags": []
          },
          "execution_count": 30
        }
      ]
    },
    {
      "cell_type": "code",
      "metadata": {
        "id": "SLDHANW_HPVv",
        "colab_type": "code",
        "outputId": "a8ee56ab-f912-41b8-87d1-6745c7b12ef1",
        "colab": {
          "base_uri": "https://localhost:8080/",
          "height": 51
        }
      },
      "source": [
        "from tensorflow.keras.preprocessing import image\n",
        "\n",
        "def predict_image(img_path):\n",
        "    # Read the image and resize it\n",
        "    img = image.load_img(img_path, target_size=(height, width))\n",
        "    # Convert it to a Numpy array with target shape.\n",
        "    x = image.img_to_array(img)\n",
        "    # Reshape\n",
        "    x = x.reshape((1,) + x.shape)\n",
        "    x /= 255.\n",
        "    result = model.predict([x])[0][0]\n",
        "    if result > 0.5:\n",
        "        animal = \"cat\"\n",
        "    else:\n",
        "        animal = \"dog\"\n",
        "        result = 1 - result\n",
        "    return animal,result\n",
        "\n",
        "print(predict_image(cat_img))\n",
        "print(predict_image(dog_img))"
      ],
      "execution_count": 31,
      "outputs": [
        {
          "output_type": "stream",
          "text": [
            "('cat', 0.99995065)\n",
            "('dog', 0.9849699269980192)\n"
          ],
          "name": "stdout"
        }
      ]
    },
    {
      "cell_type": "markdown",
      "metadata": {
        "id": "ogB16XX3eXaN",
        "colab_type": "text"
      },
      "source": [
        "## Download the model"
      ]
    },
    {
      "cell_type": "code",
      "metadata": {
        "id": "H_3Zek4eeSXD",
        "colab_type": "code",
        "colab": {}
      },
      "source": [
        "from google.colab import files\n",
        "\n",
        "files.download('./models/cats_and_dogs_small.h5')"
      ],
      "execution_count": 0,
      "outputs": []
    },
    {
      "cell_type": "code",
      "metadata": {
        "id": "n1rvrVx3CVN0",
        "colab_type": "code",
        "outputId": "e6101eb6-ff4c-4029-e5e3-237410fc24d4",
        "colab": {
          "base_uri": "https://localhost:8080/",
          "height": 34
        }
      },
      "source": [
        "model.input_shape"
      ],
      "execution_count": 33,
      "outputs": [
        {
          "output_type": "execute_result",
          "data": {
            "text/plain": [
              "(None, 150, 150, 3)"
            ]
          },
          "metadata": {
            "tags": []
          },
          "execution_count": 33
        }
      ]
    },
    {
      "cell_type": "markdown",
      "metadata": {
        "id": "j9O9mCbbVPWk",
        "colab_type": "text"
      },
      "source": [
        "## Load the model"
      ]
    },
    {
      "cell_type": "code",
      "metadata": {
        "id": "rkBE5AZdwLki",
        "colab_type": "code",
        "colab": {}
      },
      "source": [
        "from efficientnet.layers import Swish, DropConnect\n",
        "from efficientnet.model import ConvKernalInitializer\n",
        "from tensorflow.keras.utils import get_custom_objects\n",
        "\n",
        "get_custom_objects().update({\n",
        "    'ConvKernalInitializer': ConvKernalInitializer,\n",
        "    'Swish': Swish,\n",
        "    'DropConnect':DropConnect\n",
        "})"
      ],
      "execution_count": 0,
      "outputs": []
    },
    {
      "cell_type": "code",
      "metadata": {
        "id": "pURT5B8uVFgq",
        "colab_type": "code",
        "colab": {}
      },
      "source": [
        "from tensorflow.keras.models import load_model\n",
        "model = load_model(\"./models/cats_and_dogs_small.h5\")"
      ],
      "execution_count": 0,
      "outputs": []
    }
  ]
}